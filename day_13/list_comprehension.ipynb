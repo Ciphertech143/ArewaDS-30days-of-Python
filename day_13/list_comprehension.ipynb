{
 "cells": [
  {
   "cell_type": "code",
   "execution_count": 1,
   "metadata": {},
   "outputs": [
    {
     "name": "stdout",
     "output_type": "stream",
     "text": [
      "[-4, -3, -2, -1, 0]\n"
     ]
    }
   ],
   "source": [
    "numbers = [-4, -3, -2, -1, 0, 2, 4, 6]\n",
    "result = [num for num in numbers if num <= 0]\n",
    "print(result)   \n"
   ]
  },
  {
   "cell_type": "code",
   "execution_count": 2,
   "metadata": {},
   "outputs": [
    {
     "name": "stdout",
     "output_type": "stream",
     "text": [
      "[1, 2, 3, 4, 5, 6, 7, 8, 9]\n"
     ]
    }
   ],
   "source": [
    "list_of_lists = [[[1, 2, 3]], [[4, 5, 6]], [[7, 8, 9]]]\n",
    "flattened_list = [val for sublist in list_of_lists for subsublist in sublist for val in subsublist]\n",
    "print(flattened_list)  # Output: [1, 2, 3, 4, 5, 6, 7, 8, 9]\n"
   ]
  },
  {
   "cell_type": "code",
   "execution_count": 3,
   "metadata": {},
   "outputs": [
    {
     "name": "stdout",
     "output_type": "stream",
     "text": [
      "[(0, 1, 2, 4, 8, 16, 32, 64), (1, 1, 2, 4, 8, 16, 32, 64), (2, 1, 2, 4, 8, 16, 32, 64), (3, 1, 2, 4, 8, 16, 32, 64), (4, 1, 2, 4, 8, 16, 32, 64), (5, 1, 2, 4, 8, 16, 32, 64), (6, 1, 2, 4, 8, 16, 32, 64), (7, 1, 2, 4, 8, 16, 32, 64), (8, 1, 2, 4, 8, 16, 32, 64), (9, 1, 2, 4, 8, 16, 32, 64), (10, 1, 2, 4, 8, 16, 32, 64)]\n"
     ]
    }
   ],
   "source": [
    "result = [(i,) + tuple(2 ** j for j in range(7)) for i in range(11)]\n",
    "print(result)  # Output: List of tuples as mentioned\n"
   ]
  },
  {
   "cell_type": "code",
   "execution_count": 4,
   "metadata": {},
   "outputs": [
    {
     "name": "stdout",
     "output_type": "stream",
     "text": [
      "[['FINLAND', 'FIN', 'HELSINKI'], ['SWEDEN', 'SWE', 'STOCKHOLM'], ['NORWAY', 'NOR', 'OSLO']]\n"
     ]
    }
   ],
   "source": [
    "countries = [[('Finland', 'Helsinki')], [('Sweden', 'Stockholm')], [('Norway', 'Oslo')]]\n",
    "flattened_countries = [[country.upper(), country[:3].upper(), city.upper()] for item in countries for country, city in item]\n",
    "print(flattened_countries)  # Output: List of lists with country and city names in uppercase\n"
   ]
  },
  {
   "cell_type": "code",
   "execution_count": 5,
   "metadata": {},
   "outputs": [
    {
     "name": "stdout",
     "output_type": "stream",
     "text": [
      "[{'country': 'FINLAND', 'city': 'HELSINKI'}, {'country': 'SWEDEN', 'city': 'STOCKHOLM'}, {'country': 'NORWAY', 'city': 'OSLO'}]\n"
     ]
    }
   ],
   "source": [
    "countries = [[('Finland', 'Helsinki')], [('Sweden', 'Stockholm')], [('Norway', 'Oslo')]]\n",
    "result = [{'country': country.upper(), 'city': city.upper()} for item in countries for country, city in item]\n",
    "print(result)  # Output: List of dictionaries with country and city names in uppercase\n"
   ]
  },
  {
   "cell_type": "code",
   "execution_count": 7,
   "metadata": {},
   "outputs": [],
   "source": [
    "linear_function = lambda x, m, c: m * x + c\n",
    "# Usage: linear_function(x_value, slope, y_intercept)\n"
   ]
  },
  {
   "cell_type": "code",
   "execution_count": null,
   "metadata": {},
   "outputs": [],
   "source": []
  }
 ],
 "metadata": {
  "kernelspec": {
   "display_name": "mytest",
   "language": "python",
   "name": "python3"
  },
  "language_info": {
   "codemirror_mode": {
    "name": "ipython",
    "version": 3
   },
   "file_extension": ".py",
   "mimetype": "text/x-python",
   "name": "python",
   "nbconvert_exporter": "python",
   "pygments_lexer": "ipython3",
   "version": "3.8.18"
  }
 },
 "nbformat": 4,
 "nbformat_minor": 2
}
