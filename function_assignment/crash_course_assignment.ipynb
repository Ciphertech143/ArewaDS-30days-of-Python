{
 "cells": [
  {
   "cell_type": "code",
   "execution_count": null,
   "metadata": {},
   "outputs": [],
   "source": [
    "# Message: Write a function called display_message() that prints one sentence telling everyone what you are learning about in this chapter. Call the function, and make sure the message displays correctly.\n",
    "def display_message():\n",
    "    print(\"I am learning on how to write functions \")\n",
    "display_message()    \n"
   ]
  },
  {
   "cell_type": "markdown",
   "metadata": {},
   "source": [
    "#### 8-2. Favorite Book: Write a function called favorite_book() that accepts one parameter, title. The function should print a message, such as One of my favorite books is Alice in Wonderland. Call the function, making sure to include a book title as an argument in the function call."
   ]
  },
  {
   "cell_type": "code",
   "execution_count": 10,
   "metadata": {},
   "outputs": [],
   "source": [
    "def favorite_book(book_title):\n",
    "    print(print(f\"My favourite book is , {book_title.title()}!\"))\n",
    "favorite_book(\"Quran\") "
   ]
  },
  {
   "cell_type": "markdown",
   "metadata": {},
   "source": [
    "#### 8-3. T-Shirt: Write a function called make_shirt() that accepts a size and the text of a message that should be printed on the shirt. The function should print a sentence summarizing the size of the shirt and the message printed on it. Call the function once using positional arguments to make a shirt. Call the function a second time using keyword arguments."
   ]
  },
  {
   "cell_type": "markdown",
   "metadata": {},
   "source": []
  },
  {
   "cell_type": "code",
   "execution_count": 2,
   "metadata": {},
   "outputs": [
    {
     "name": "stdout",
     "output_type": "stream",
     "text": [
      "The size of the shirt is 20\n",
      "Habeebaty\n",
      "The size of the shirt is 22\n",
      "Aboo Muhammad\n"
     ]
    }
   ],
   "source": [
    "def make_shirt(size, printed_text):\n",
    "    print(f\"The size of the shirt is {size}\")\n",
    "    print(f\"{printed_text}\")\n",
    "make_shirt(20, \"Habeebaty\")\n",
    "make_shirt(size=22, printed_text=\"Aboo Muhammad\")"
   ]
  },
  {
   "cell_type": "markdown",
   "metadata": {},
   "source": [
    "#### 8-4. Large Shirts: Modify the make_shirt() function so that shirts are large by default with a message that reads I love Python. Make a large shirt and a medium shirt with the default message, and a shirt of any size with a different message."
   ]
  },
  {
   "cell_type": "code",
   "execution_count": 5,
   "metadata": {},
   "outputs": [
    {
     "name": "stdout",
     "output_type": "stream",
     "text": [
      "The size of the shirt is Large\n",
      "I love Python\n",
      "The size of the shirt is medium\n",
      "I love Python\n",
      "The size of the shirt is small\n",
      "I love programming\n"
     ]
    }
   ],
   "source": [
    "def make_shirt(size=\"Large\", printed_text=\"I love Python\"):\n",
    "    print(f\"The size of the shirt is {size}\")\n",
    "    print(f\"{printed_text}\")\n",
    "make_shirt( )\n",
    "make_shirt(size=\"medium\", printed_text=\"I love Python\" )\n",
    "make_shirt(\"small\", \"I love programming\")"
   ]
  },
  {
   "cell_type": "markdown",
   "metadata": {},
   "source": [
    "#### 8-5. Cities: Write a function called describe_city() that accepts the name of a city and its country. The function should print a simple sentence, such as Reykjavik is in Iceland. Give the parameter for the country a default value. Call your function for three different cities, at least one of which is not in the default country."
   ]
  },
  {
   "cell_type": "code",
   "execution_count": 8,
   "metadata": {},
   "outputs": [
    {
     "name": "stdout",
     "output_type": "stream",
     "text": [
      "Abuja is in Nigeria\n",
      "Kaduna is in Nigeria\n",
      "Kano is in Nigeria\n"
     ]
    }
   ],
   "source": [
    "def describe_city(city, country=\"Nigeria\"):\n",
    "    print(f\"{city} is in {country}\")\n",
    "describe_city(\"Abuja\")   \n",
    "describe_city(\"Kaduna\")\n",
    "describe_city(\"Kano\") \n",
    "     "
   ]
  },
  {
   "cell_type": "markdown",
   "metadata": {},
   "source": [
    "#### 8-6. City Names: Write a function called city_country() that takes in the name of a city and its country.  "
   ]
  },
  {
   "cell_type": "code",
   "execution_count": 16,
   "metadata": {},
   "outputs": [
    {
     "name": "stdout",
     "output_type": "stream",
     "text": [
      "Santiago, Chile\n",
      "Tokyo, Japan\n",
      "Paris, France\n"
     ]
    }
   ],
   "source": [
    "def city_country(city, country):\n",
    "    return f\"{city.title()}, {country.title()}\"\n",
    "\n",
    "first_country = city_country(\"santiago\", \"chile\")\n",
    "second_country = city_country(\"tokyo\", \"japan\")\n",
    "third_country= city_country(\"paris\", \"france\")\n",
    "\n",
    "# Print the values returned\n",
    "print(first_country)\n",
    "print(second_country)\n",
    "print(third_country)\n"
   ]
  },
  {
   "cell_type": "code",
   "execution_count": 18,
   "metadata": {},
   "outputs": [
    {
     "name": "stdout",
     "output_type": "stream",
     "text": [
      "{'artist': 'Mishary Alafasy', 'title': 'Mustapha'}\n",
      "{'artist': 'Maher Almuaeqly', 'title': 'Complete Quran'}\n",
      "{'artist': 'Idris Abkar', 'title': 'Nasheeds'}\n",
      "{'artist': 'Okasha Kameny', 'title': \"Ha'Iyya\", 'songs': 10}\n"
     ]
    }
   ],
   "source": [
    "def make_album(artist, title, songs=None):\n",
    "    album = {'artist': artist.title(), 'title': title.title()}\n",
    "    if songs is not None:\n",
    "        album['songs'] = songs\n",
    "    return album\n",
    "\n",
    "# Example usage without specifying number of songs\n",
    "album1 = make_album(\"Mishary Alafasy\", \"Mustapha\")\n",
    "album2 = make_album(\"Maher Almuaeqly\", \"Complete Quran\")\n",
    "album3 = make_album(\"Idris Abkar\", \"Nasheeds\")\n",
    "\n",
    "# Example usage with specifying number of songs\n",
    "album4 = make_album(\"Okasha Kameny\", \"Ha'iyya\", songs=10)\n",
    "\n",
    "# Print the dictionaries\n",
    "print(album1)\n",
    "print(album2)\n",
    "print(album3)\n",
    "print(album4)\n"
   ]
  },
  {
   "cell_type": "code",
   "execution_count": 19,
   "metadata": {},
   "outputs": [
    {
     "name": "stdout",
     "output_type": "stream",
     "text": [
      "{'artist': 'Okasha Kameny', 'title': 'Poems'}\n",
      "{'artist': 'Maher Almuaeqly', 'title': 'Quran'}\n",
      "{'artist': 'Khalil Khusary', 'title': 'Riwaya'}\n",
      "{'artist': 'Ahmad Habieb', 'title': 'Nasheeds'}\n"
     ]
    }
   ],
   "source": [
    "def make_album(artist, title, songs=None):\n",
    "    album = {'artist': artist.title(), 'title': title.title()}\n",
    "    if songs is not None:\n",
    "        album['songs'] = songs\n",
    "    return album\n",
    "\n",
    "while True:\n",
    "    artist_input = input(\"Enter the artist's name (or 'quit' to exit): \")\n",
    "    \n",
    "    # Check if the user wants to quit\n",
    "    if artist_input.lower() == 'quit':\n",
    "        break\n",
    "    \n",
    "    title_input = input(\"Enter the album title: \")\n",
    "    \n",
    "    # Use make_album function and print the result\n",
    "    album_info = make_album(artist_input, title_input)\n",
    "    print(album_info)\n"
   ]
  },
  {
   "cell_type": "markdown",
   "metadata": {},
   "source": [
    "#### 8-9. Messages: Make a list containing a series of short text messages. Pass the list to a function called show_messages(), which prints each text message."
   ]
  },
  {
   "cell_type": "code",
   "execution_count": 22,
   "metadata": {},
   "outputs": [
    {
     "name": "stdout",
     "output_type": "stream",
     "text": [
      "Hello, how is the program ?\n",
      "Don't forget to solve all the problems in the function chapter.\n",
      "Happy coding! 🎉\n",
      "What strategy do you follow to be consistent?\n",
      "See you in the next phase!\n"
     ]
    }
   ],
   "source": [
    "def show_messages(messages):\n",
    "    for message in messages:\n",
    "        print(message)\n",
    "\n",
    "text_messages = [\n",
    "    \"Hello, how is the program ?\",\n",
    "    \"Don't forget to solve all the problems in the function chapter.\",\n",
    "    \"Happy coding! 🎉\",\n",
    "    \"What strategy do you follow to be consistent?\",\n",
    "    \"See you in the next phase!\"\n",
    "]\n",
    "\n",
    "# Call the show_messages function with the list\n",
    "show_messages(text_messages)\n"
   ]
  },
  {
   "cell_type": "markdown",
   "metadata": {},
   "source": [
    "#### 8-10. Sending Messages: Start with a copy of your program from Exercise 8-9. Write a function called send_messages() that prints each text message and moves each message to a new list called sent_messages as it’s printed. After calling the function, print both of your lists to make sure the messages were moved correctly."
   ]
  },
  {
   "cell_type": "code",
   "execution_count": 23,
   "metadata": {},
   "outputs": [
    {
     "name": "stdout",
     "output_type": "stream",
     "text": [
      "Sending message: Hello, how is the program ?\n",
      "Sending message: Don't forget to solve all the problems in the function chapter.\n",
      "Sending message: Happy coding! 🎉\n",
      "Sending message: What strategy do you follow to be consistent?\n",
      "Sending message: See you in the next phase!\n",
      "Original messages:\n",
      "\n",
      "Sent messages:\n",
      "Hello, how is the program ?\n",
      "Don't forget to solve all the problems in the function chapter.\n",
      "Happy coding! 🎉\n",
      "What strategy do you follow to be consistent?\n",
      "See you in the next phase!\n"
     ]
    }
   ],
   "source": [
    "def show_messages(messages):\n",
    "    for message in messages:\n",
    "        print(message)\n",
    "\n",
    "def send_messages(messages, sent_messages):\n",
    "    while messages:\n",
    "        current_message = messages.pop(0)\n",
    "        print(f\"Sending message: {current_message}\")\n",
    "        sent_messages.append(current_message)\n",
    "\n",
    "text_messages = [\n",
    "    \"Hello, how is the program ?\",\n",
    "    \"Don't forget to solve all the problems in the function chapter.\",\n",
    "    \"Happy coding! 🎉\",\n",
    "    \"What strategy do you follow to be consistent?\",\n",
    "    \"See you in the next phase!\"\n",
    "]\n",
    "\n",
    "sent_messages = []\n",
    "\n",
    "send_messages(text_messages, sent_messages)\n",
    "\n",
    "# Print both lists to verify the messages were moved correctly\n",
    "print(\"Original messages:\")\n",
    "show_messages(text_messages)\n",
    "\n",
    "print(\"\\nSent messages:\")\n",
    "show_messages(sent_messages)\n"
   ]
  },
  {
   "cell_type": "code",
   "execution_count": 24,
   "metadata": {},
   "outputs": [
    {
     "name": "stdout",
     "output_type": "stream",
     "text": [
      "Sending message: How is the program ?\n",
      "Sending message: Make sure you solve all the problems in the function chapter.\n",
      "Sending message: Happy coding!\n",
      "Sending message: What strategy do you follow to be consistent?\n",
      "Sending message: See you in the next phase!\n",
      "Original messages:\n",
      "How is the program ?\n",
      "Make sure you solve all the problems in the function chapter.\n",
      "Happy coding!\n",
      "What strategy do you follow to be consistent?\n",
      "See you in the next phase!\n",
      "\n",
      "Sent messages:\n",
      "How is the program ?\n",
      "Make sure you solve all the problems in the function chapter.\n",
      "Happy coding!\n",
      "What strategy do you follow to be consistent?\n",
      "See you in the next phase!\n"
     ]
    }
   ],
   "source": [
    "def show_messages(messages):\n",
    "    for message in messages:\n",
    "        print(message)\n",
    "\n",
    "def send_messages(messages, sent_messages):\n",
    "    while messages:\n",
    "        current_message = messages.pop(0)\n",
    "        print(f\"Sending message: {current_message}\")\n",
    "        sent_messages.append(current_message)\n",
    "\n",
    "text_messages = [\n",
    "    \"How is the program ?\",\n",
    "    \"Make sure you solve all the problems in the function chapter.\",\n",
    "    \"Happy coding!\",\n",
    "    \"What strategy do you follow to be consistent?\",\n",
    "    \"See you in the next phase!\"\n",
    "]\n",
    "\n",
    "sent_messages = []\n",
    "\n",
    "send_messages(text_messages[:], sent_messages)\n",
    "\n",
    "# Print both lists to verify the messages were moved correctly\n",
    "print(\"Original messages:\")\n",
    "show_messages(text_messages)\n",
    "\n",
    "print(\"\\nSent messages:\")\n",
    "show_messages(sent_messages)\n"
   ]
  },
  {
   "cell_type": "markdown",
   "metadata": {},
   "source": [
    "#### Sandwitches"
   ]
  },
  {
   "cell_type": "code",
   "execution_count": 26,
   "metadata": {},
   "outputs": [
    {
     "name": "stdout",
     "output_type": "stream",
     "text": [
      "\n",
      "Making a sandwich with the following items:\n",
      "- Turkey\n",
      "- Swiss Cheese\n",
      "- Lettuce\n",
      "- Tomato\n",
      "\n",
      "Making a sandwich with the following items:\n",
      "- Ham\n",
      "- Cheddar Cheese\n",
      "- Mustard\n",
      "\n",
      "Making a sandwich with the following items:\n",
      "- Vegetarian Option\n",
      "- Hummus\n",
      "- Cucumber\n",
      "- Spinach\n"
     ]
    }
   ],
   "source": [
    "def make_sandwich(*items):\n",
    "    print(\"\\nMaking a sandwich with the following items:\")\n",
    "    for item in items:\n",
    "        print(f\"- {item}\")\n",
    "\n",
    "make_sandwich(\"Turkey\", \"Swiss Cheese\", \"Lettuce\", \"Tomato\")\n",
    "make_sandwich(\"Ham\", \"Cheddar Cheese\", \"Mustard\")\n",
    "make_sandwich(\"Vegetarian Option\", \"Hummus\", \"Cucumber\", \"Spinach\")\n"
   ]
  },
  {
   "cell_type": "markdown",
   "metadata": {},
   "source": [
    "### 8-13. User Profile: Start with a copy of user_profile.py from page 148. Build a profile of yourself by calling build_profile(), using your first and last names and three other key-value pairs that describe you."
   ]
  },
  {
   "cell_type": "code",
   "execution_count": 28,
   "metadata": {},
   "outputs": [
    {
     "name": "stdout",
     "output_type": "stream",
     "text": [
      "{'location': 'Kaduna', 'field': 'Computer Science', 'age': 25, 'hobby': 'studying', 'first_name': 'Habieb', 'last_name': 'Yusuf'}\n"
     ]
    }
   ],
   "source": [
    "def build_profile(first, last, **user_info):\n",
    "    user_info['first_name'] = first\n",
    "    user_info['last_name'] = last\n",
    "    return user_info\n",
    "user_profile = build_profile('Habieb', 'Yusuf',\n",
    "location='Kaduna',\n",
    "field='Computer Science', age=25, hobby='studying')\n",
    "print(user_profile)"
   ]
  },
  {
   "cell_type": "markdown",
   "metadata": {},
   "source": [
    "#### 8.14 Write a function that stores information about a car in a dictionary "
   ]
  },
  {
   "cell_type": "code",
   "execution_count": 2,
   "metadata": {},
   "outputs": [
    {
     "name": "stdout",
     "output_type": "stream",
     "text": [
      "{'manufacturer': 'subaru', 'model_name': 'outback', 'color': 'blue', 'tow_package': True}\n"
     ]
    }
   ],
   "source": [
    "def build_car(manufacturer, model_name, **kwargs):\n",
    "    car = {}\n",
    "    car['manufacturer'] = manufacturer\n",
    "    car['model_name'] = model_name\n",
    "    for k,v in kwargs.items():\n",
    "        car[k] = v\n",
    "    return car\n",
    "print(build_car('subaru','outback',color='blue', tow_package=True))\n",
    "\n"
   ]
  },
  {
   "cell_type": "markdown",
   "metadata": {},
   "source": [
    "#### Printing Models and import"
   ]
  },
  {
   "cell_type": "code",
   "execution_count": 3,
   "metadata": {},
   "outputs": [
    {
     "name": "stdout",
     "output_type": "stream",
     "text": [
      "{'manufacturer': 'subaru', 'model_name': 'outback', 'color': 'blue', 'tow_package': True}\n",
      "{'manufacturer': 'subaru', 'model_name': 'outback', 'color': 'blue', 'tow_package': True}\n",
      "{'manufacturer': 'subaru', 'model_name': 'outback', 'color': 'blue', 'tow_package': True}\n",
      "{'manufacturer': 'subaru', 'model_name': 'outback', 'color': 'blue', 'tow_package': True}\n",
      "{'manufacturer': 'subaru', 'model_name': 'outback', 'color': 'blue', 'tow_package': True}\n"
     ]
    }
   ],
   "source": [
    "import car\n",
    "print(car.build_car('subaru','outback',color='blue', tow_package=True))\n",
    "\n",
    "from car import build_car\n",
    "print(build_car('subaru','outback',color='blue', tow_package=True))\n",
    "\n",
    "from car import build_car as bc\n",
    "print(bc('subaru','outback',color='blue', tow_package=True))\n",
    "\n",
    "import car as c\n",
    "print(c.build_car('subaru','outback',color='blue', tow_package=True))\n",
    "\n",
    "from car import *\n",
    "print(build_car('subaru','outback',color='blue', tow_package=True))\n"
   ]
  }
 ],
 "metadata": {
  "kernelspec": {
   "display_name": "mytest",
   "language": "python",
   "name": "python3"
  },
  "language_info": {
   "codemirror_mode": {
    "name": "ipython",
    "version": 3
   },
   "file_extension": ".py",
   "mimetype": "text/x-python",
   "name": "python",
   "nbconvert_exporter": "python",
   "pygments_lexer": "ipython3",
   "version": "3.8.18"
  }
 },
 "nbformat": 4,
 "nbformat_minor": 2
}
