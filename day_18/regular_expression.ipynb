{
 "cells": [
  {
   "cell_type": "code",
   "execution_count": 1,
   "metadata": {},
   "outputs": [
    {
     "name": "stdout",
     "output_type": "stream",
     "text": [
      "('you', 5)\n"
     ]
    }
   ],
   "source": [
    "from collections import Counter\n",
    "\n",
    "paragraph = 'I love teaching. If you do not love teaching what else can you love. I love Python if you do not love something which can give you all the capabilities to develop an application what else can you love.'\n",
    "\n",
    "# Tokenize the paragraph into words\n",
    "words = paragraph.split()\n",
    "\n",
    "# Count the occurrences of each word using Counter\n",
    "word_count = Counter(words)\n",
    "\n",
    "# Find the most frequent word and its count\n",
    "most_common_word = word_count.most_common(1)[0]\n",
    "print(most_common_word)\n"
   ]
  },
  {
   "cell_type": "code",
   "execution_count": 3,
   "metadata": {},
   "outputs": [
    {
     "name": "stdout",
     "output_type": "stream",
     "text": [
      "20\n"
     ]
    }
   ],
   "source": [
    "import re\n",
    "\n",
    "text = \"The position of some particles on the horizontal x-axis are -12, -4, -3 and -1 in the negative direction, 0 at origin, 4 and 8 in the positive direction.\"\n",
    "\n",
    "# Extract numbers from the text using regular expression\n",
    "numbers = re.findall(r'-?\\d+', text)\n",
    "\n",
    "# Convert extracted numbers to integers\n",
    "numbers = list(map(int, numbers))\n",
    "\n",
    "# Sort the numbers\n",
    "sorted_points = sorted(numbers)\n",
    "\n",
    "# Calculate the distance between the two furthest particles\n",
    "distance = sorted_points[-1] - sorted_points[0]\n",
    "print(distance)\n"
   ]
  },
  {
   "cell_type": "code",
   "execution_count": 4,
   "metadata": {},
   "outputs": [
    {
     "name": "stdout",
     "output_type": "stream",
     "text": [
      "True\n",
      "False\n",
      "False\n",
      "True\n"
     ]
    }
   ],
   "source": [
    "import re\n",
    "\n",
    "def is_valid_variable(variable):\n",
    "    pattern = r'^[a-zA-Z_]\\w*$'\n",
    "    return bool(re.match(pattern, variable))\n",
    "\n",
    "# Test cases\n",
    "print(is_valid_variable('first_name'))   # True\n",
    "print(is_valid_variable('first-name'))   # False\n",
    "print(is_valid_variable('1first_name'))  # False\n",
    "print(is_valid_variable('firstname'))   # True\n"
   ]
  },
  {
   "cell_type": "code",
   "execution_count": 5,
   "metadata": {},
   "outputs": [
    {
     "name": "stdout",
     "output_type": "stream",
     "text": [
      "I am a teacher and I love teaching There is nothing as more rewarding as educating and empowering people I found teaching more interesting than any other jobs Does this motivate you to be a teacher\n",
      "[('I', 3), ('a', 2), ('teacher', 2)]\n"
     ]
    }
   ],
   "source": [
    "from collections import Counter\n",
    "import re\n",
    "\n",
    "def clean_text(sentence):\n",
    "    cleaned_text = re.sub(r'[^\\w\\s]', '', sentence)\n",
    "    return cleaned_text\n",
    "\n",
    "def most_frequent_words(text):\n",
    "    words = text.split()\n",
    "    word_count = Counter(words)\n",
    "    return word_count.most_common(3)\n",
    "\n",
    "# Given sentence\n",
    "sentence = '''%I $am@% a %tea@cher%, &and& I lo%#ve %tea@ching%;. There $is nothing; &as& mo@re rewarding as educa@ting &and& @emp%o@wering peo@ple. ;I found tea@ching m%o@re interesting tha@n any other %jo@bs. %Do@es thi%s mo@tivate yo@u to be a tea@cher!?'''\n",
    "\n",
    "cleaned_text = clean_text(sentence)\n",
    "print(cleaned_text)\n",
    "print(most_frequent_words(cleaned_text))  # [(3, 'I'), (2, 'teaching'), (2, 'teacher')]\n"
   ]
  },
  {
   "cell_type": "code",
   "execution_count": null,
   "metadata": {},
   "outputs": [],
   "source": []
  }
 ],
 "metadata": {
  "kernelspec": {
   "display_name": "mytest",
   "language": "python",
   "name": "python3"
  },
  "language_info": {
   "codemirror_mode": {
    "name": "ipython",
    "version": 3
   },
   "file_extension": ".py",
   "mimetype": "text/x-python",
   "name": "python",
   "nbconvert_exporter": "python",
   "pygments_lexer": "ipython3",
   "version": "3.8.18"
  }
 },
 "nbformat": 4,
 "nbformat_minor": 2
}
