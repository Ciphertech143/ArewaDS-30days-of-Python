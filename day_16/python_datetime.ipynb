{
 "cells": [
  {
   "cell_type": "code",
   "execution_count": 7,
   "metadata": {},
   "outputs": [
    {
     "name": "stdout",
     "output_type": "stream",
     "text": [
      "Current Date and Time: 2023-12-18 08:57:03.221938\n",
      "Current Day: 18\n",
      "Current Month: 12\n",
      "Current Year: 2023\n",
      "Current Hour: 8\n",
      "Current Minute: 57\n",
      "Current timestamp: 1702886223.221938\n"
     ]
    }
   ],
   "source": [
    "from datetime import datetime, timedelta\n",
    "\n",
    "# 1. Get the current day, month, year, hour, minute, and timestamp\n",
    "current_datetime = datetime.now()\n",
    "current_day = current_datetime.day\n",
    "current_month = current_datetime.month\n",
    "current_year = current_datetime.year\n",
    "current_hour = current_datetime.hour\n",
    "current_minute = current_datetime.minute\n",
    "timestamp = current_datetime.timestamp()\n",
    "print(\"Current Date and Time:\", current_datetime)\n",
    "print(\"Current Day:\", current_day)\n",
    "print(\"Current Month:\", current_month)\n",
    "print(\"Current Year:\", current_year)\n",
    "print(\"Current Hour:\", current_hour)\n",
    "print(\"Current Minute:\", current_minute)\n",
    "print(\"Current timestamp:\", timestamp)"
   ]
  },
  {
   "cell_type": "code",
   "execution_count": 8,
   "metadata": {},
   "outputs": [
    {
     "name": "stdout",
     "output_type": "stream",
     "text": [
      "Formatted Date: 12/18/2023, 08:57:03\n"
     ]
    }
   ],
   "source": [
    "# 2. Format the current date\n",
    "formatted_date = current_datetime.strftime(\"%m/%d/%Y, %H:%M:%S\")\n",
    "print(\"Formatted Date:\", formatted_date)"
   ]
  },
  {
   "cell_type": "code",
   "execution_count": 3,
   "metadata": {},
   "outputs": [],
   "source": [
    "# 3. Convert a time string to time\n",
    "time_string = \"5 December, 2019\"\n",
    "time_obj = datetime.strptime(time_string, \"%d %B, %Y\")\n",
    "print(\"Time Object:\", time_obj)"
   ]
  },
  {
   "cell_type": "code",
   "execution_count": 4,
   "metadata": {},
   "outputs": [],
   "source": [
    "# 4. Calculate the time difference between now and New Year\n",
    "new_year = datetime(current_year + 1, 1, 1)\n",
    "time_until_new_year = new_year - current_datetime\n",
    "print(\"Time Until New Year:\", time_until_new_year)"
   ]
  },
  {
   "cell_type": "code",
   "execution_count": 9,
   "metadata": {},
   "outputs": [
    {
     "name": "stdout",
     "output_type": "stream",
     "text": [
      "Time Since Epoch (Unix Time): 19709 days, 8:57:03.221938\n"
     ]
    }
   ],
   "source": [
    "# 5. Calculate the time difference between 1 January 1970 and now\n",
    "unix_epoch = datetime(1970, 1, 1)\n",
    "time_since_epoch = current_datetime - unix_epoch\n",
    "print(\"Time Since Epoch (Unix Time):\", time_since_epoch)"
   ]
  },
  {
   "cell_type": "code",
   "execution_count": null,
   "metadata": {},
   "outputs": [],
   "source": []
  }
 ],
 "metadata": {
  "kernelspec": {
   "display_name": "mytest",
   "language": "python",
   "name": "python3"
  },
  "language_info": {
   "codemirror_mode": {
    "name": "ipython",
    "version": 3
   },
   "file_extension": ".py",
   "mimetype": "text/x-python",
   "name": "python",
   "nbconvert_exporter": "python",
   "pygments_lexer": "ipython3",
   "version": "3.8.18"
  }
 },
 "nbformat": 4,
 "nbformat_minor": 2
}
