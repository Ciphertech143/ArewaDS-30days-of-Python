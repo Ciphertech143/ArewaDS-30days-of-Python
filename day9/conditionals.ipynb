{
 "cells": [
  {
   "cell_type": "code",
   "execution_count": 2,
   "metadata": {},
   "outputs": [
    {
     "name": "stdout",
     "output_type": "stream",
     "text": [
      "You are old enough to learn to drive.\n"
     ]
    }
   ],
   "source": [
    "# Get user input for age\n",
    "age = int(input(\"Enter your age: \"))\n",
    "\n",
    "# Check if the age is 18 or older\n",
    "if age >= 18:\n",
    "    print(\"You are old enough to learn to drive.\")\n",
    "else:\n",
    "    years_to_wait = 18 - age\n",
    "    print(f\"You need {years_to_wait} more {'year' if years_to_wait == 1 else 'years'} to learn to drive.\")\n"
   ]
  },
  {
   "cell_type": "code",
   "execution_count": 1,
   "metadata": {},
   "outputs": [
    {
     "name": "stdout",
     "output_type": "stream",
     "text": [
      "You are 5 years older than me.\n"
     ]
    }
   ],
   "source": [
    "my_age = int(input(\"Enter your age: \"))\n",
    "\n",
    "your_age = 25   \n",
    "\n",
    "# Compare the ages and print the result\n",
    "if my_age > your_age:\n",
    "    age_difference = my_age - your_age\n",
    "    if age_difference == 1:\n",
    "        print(f\"You are 1 year older than me.\")\n",
    "    else:\n",
    "        print(f\"You are {age_difference} years older than me.\")\n",
    "elif my_age < your_age:\n",
    "    age_difference = your_age - my_age\n",
    "    if age_difference == 1:\n",
    "        print(f\"I am 1 year older than you.\")\n",
    "    else:\n",
    "        print(f\"I am {age_difference} years older than you.\")\n",
    "else:\n",
    "    print(\"We are of the same age!\")\n"
   ]
  },
  {
   "cell_type": "code",
   "execution_count": 5,
   "metadata": {},
   "outputs": [
    {
     "name": "stdout",
     "output_type": "stream",
     "text": [
      "2 is smaller than 33\n"
     ]
    }
   ],
   "source": [
    "#3.  Get two numbers from the user using input prompt. If a is greater than b return a is greater than b, if a is less b return a is smaller than b, else a is equal to b. Output:\n",
    " \n",
    "#Enter number one: 4\n",
    "#Enter number two: 3\n",
    "#4 is greater than 3\n",
    "a=input(\"Enter value for a: \")\n",
    "b =input(\"Enter value for b: \") \n",
    "if a>b:\n",
    "    print(f\"{a} is greater\")\n",
    "if a<b:\n",
    "        print(f\"{a} is smaller than {b}\")\n"
   ]
  },
  {
   "cell_type": "code",
   "execution_count": 6,
   "metadata": {},
   "outputs": [
    {
     "name": "stdout",
     "output_type": "stream",
     "text": [
      "Score: 85, Grade: A\n",
      "Score: 75, Grade: B\n",
      "Score: 65, Grade: C\n",
      "Score: 55, Grade: D\n",
      "Score: 35, Grade: F\n"
     ]
    }
   ],
   "source": [
    "def calculate_grade(score):\n",
    "    if 80 <= score <= 100:\n",
    "        return 'A'\n",
    "    elif 70 <= score <= 79:\n",
    "        return 'B'\n",
    "    elif 60 <= score <= 69:\n",
    "        return 'C'\n",
    "    elif 50 <= score <= 59:\n",
    "        return 'D'\n",
    "    elif 0 <= score <= 49:\n",
    "        return 'F'\n",
    "    else:\n",
    "        return 'Invalid score'\n",
    "\n",
    "# Test the function with sample scores\n",
    "scores = [85, 75, 65, 55, 35]\n",
    "for score in scores:\n",
    "    print(f\"Score: {score}, Grade: {calculate_grade(score)}\")\n"
   ]
  },
  {
   "cell_type": "code",
   "execution_count": null,
   "metadata": {},
   "outputs": [],
   "source": []
  }
 ],
 "metadata": {
  "kernelspec": {
   "display_name": "mytest",
   "language": "python",
   "name": "python3"
  },
  "language_info": {
   "codemirror_mode": {
    "name": "ipython",
    "version": 3
   },
   "file_extension": ".py",
   "mimetype": "text/x-python",
   "name": "python",
   "nbconvert_exporter": "python",
   "pygments_lexer": "ipython3",
   "version": "3.8.18"
  }
 },
 "nbformat": 4,
 "nbformat_minor": 2
}
