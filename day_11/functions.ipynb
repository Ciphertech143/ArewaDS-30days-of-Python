{
 "cells": [
  {
   "cell_type": "code",
   "execution_count": 11,
   "metadata": {},
   "outputs": [
    {
     "name": "stdout",
     "output_type": "stream",
     "text": [
      "23\n"
     ]
    }
   ],
   "source": [
    "#1. Declare a function _add_two_numbers_. It takes two parameters and it returns a sum.\n",
    "def add_two_numbers(a,b):\n",
    "    a = int(input(\"Enter the first value: \"))\n",
    "    b = int(input(\"Enter the second value: \"))\n",
    "    addition = (a+b)\n",
    "    return addition\n",
    "print (add_two_numbers(10,3 )) "
   ]
  },
  {
   "cell_type": "code",
   "execution_count": 14,
   "metadata": {},
   "outputs": [
    {
     "name": "stdout",
     "output_type": "stream",
     "text": [
      "12.568\n"
     ]
    }
   ],
   "source": [
    "#2. Area of a circle is calculated as follows: area = π x r x r. Write a function that calculates _area_of_circle_.\n",
    "def area_of_circle():\n",
    "    pi = 3.142\n",
    "    r= float(input(\"Enter the radius: \"))\n",
    "    area = (pi * r * r)\n",
    "    print(area)\n",
    "area_of_circle()    "
   ]
  },
  {
   "cell_type": "code",
   "execution_count": 24,
   "metadata": {},
   "outputs": [
    {
     "name": "stdout",
     "output_type": "stream",
     "text": [
      "63\n",
      "Please provide only numeric arguments.\n"
     ]
    }
   ],
   "source": [
    "#3. Write a function called add_all_nums which takes arbitrary number of arguments and sums all the arguments. Check if all the list items are number types. If not do give a reasonable feedback.\n",
    "def add_all_nums(*args):\n",
    "    total = 0\n",
    "    for arg in args:\n",
    "        if not isinstance(arg, (int, float)):\n",
    "            return \"Please provide only numeric arguments.\"\n",
    "        total += arg\n",
    "    return total\n",
    "\n",
    "# Example usage:\n",
    "result = add_all_nums(5, 10, 15, 20, 13)  # Example with numeric arguments\n",
    "print(result)  # Output: 50\n",
    "\n",
    "result = add_all_nums(1, 2, 'three', 4, 5)  # Example with a non-numeric argument\n",
    "print(result)  # Output: Please provide only numeric arguments.\n",
    "\n",
    "\n"
   ]
  },
  {
   "cell_type": "code",
   "execution_count": 26,
   "metadata": {},
   "outputs": [
    {
     "name": "stdout",
     "output_type": "stream",
     "text": [
      "50°C is equal to 122.0°F\n"
     ]
    }
   ],
   "source": [
    "#Temperature in °C can be converted to °F using this formula: °F = (°C x 9/5) + 32. Write a function which converts °C to °F, _convert_celsius_to-fahrenheit_.\n",
    "def convert_celsius_to_fahrenheit(celsius):\n",
    "    fahrenheit = (celsius * 9/5) + 32\n",
    "    return fahrenheit\n",
    "\n",
    "# Example usage:\n",
    "celsius_temperature = 50\n",
    "fahrenheit_temperature = convert_celsius_to_fahrenheit(celsius_temperature)\n",
    "print(f\"{celsius_temperature}°C is equal to {fahrenheit_temperature}°F\")\n"
   ]
  },
  {
   "cell_type": "code",
   "execution_count": 27,
   "metadata": {},
   "outputs": [
    {
     "name": "stdout",
     "output_type": "stream",
     "text": [
      "The season for January is Winter\n"
     ]
    }
   ],
   "source": [
    "# Write a function called check-season, it takes a month parameter and returns the season: Autumn, Winter, Spring or Summer.\n",
    "def check_season(month):\n",
    "    spring = ['March', 'April', 'May']\n",
    "    summer = ['June', 'July', 'August']\n",
    "    autumn = ['September', 'October', 'November']\n",
    "    winter = ['December', 'January', 'February']\n",
    "\n",
    "    if month in spring:\n",
    "        return 'Spring'\n",
    "    elif month in summer:\n",
    "        return 'Summer'\n",
    "    elif month in autumn:\n",
    "        return 'Autumn'\n",
    "    elif month in winter:\n",
    "        return 'Winter'\n",
    "    else:\n",
    "        return 'Invalid month'\n",
    "\n",
    "# Example usage:\n",
    "input_month = input(\"Input month\")  \n",
    "result = check_season(input_month)\n",
    "print(f\"The season for {input_month} is {result}\")\n"
   ]
  },
  {
   "cell_type": "code",
   "execution_count": 31,
   "metadata": {},
   "outputs": [
    {
     "name": "stdout",
     "output_type": "stream",
     "text": [
      "The slope of the line passing through (4, 5) and (5, 9) is: 4.0\n"
     ]
    }
   ],
   "source": [
    "# Write a function called calculate_slope which return the slope of a linear equation\n",
    "def calculate_slope(x1, y1, x2, y2):\n",
    "    if x2 - x1 != 0:\n",
    "        slope = (y2 - y1) / (x2 - x1)\n",
    "        return slope\n",
    "    else:\n",
    "        return \"The slope is undefined (division by zero)\"\n",
    "\n",
    "# Example usage:\n",
    "x1, y1 = 4, 5\n",
    "x2, y2 = 5, 9\n",
    "slope = calculate_slope(x1, y1, x2, y2)\n",
    "print(f\"The slope of the line passing through ({x1}, {y1}) and ({x2}, {y2}) is: {slope}\")\n"
   ]
  },
  {
   "cell_type": "code",
   "execution_count": 39,
   "metadata": {},
   "outputs": [
    {
     "name": "stdout",
     "output_type": "stream",
     "text": [
      "The solutions for the quadratic equation are: (2.0, 1.0)\n"
     ]
    }
   ],
   "source": [
    "#Quadratic equation is calculated as follows: ax² + bx + c = 0. Write a function which calculates solution set of a quadratic equation, _solve_quadratic_eqn_.\n",
    "def solve_quadratic_eqn(a, b, c):\n",
    "    discriminant = b**2 - 4*a*c\n",
    "    \n",
    "    if discriminant > 0:\n",
    "        root1 = (-b + (discriminant ** 0.5)) / (2 * a)\n",
    "        root2 = (-b - (discriminant ** 0.5)) / (2 * a)\n",
    "        return root1, root2\n",
    "    elif discriminant == 0:\n",
    "        root = -b / (2 * a)\n",
    "        return root, root\n",
    "    else:\n",
    "        real_part = -b / (2 * a)\n",
    "        imaginary_part = ((-discriminant) ** 0.5) / (2 * a)\n",
    "        root1 = complex(real_part, imaginary_part)\n",
    "        root2 = complex(real_part, -imaginary_part)\n",
    "        return root1, root2\n",
    "\n",
    "# Example usage:\n",
    "a, b, c = 1, -3, 2  # Example coefficients (x² - 2x + 2 = 0)\n",
    "solution = solve_quadratic_eqn(a, b, c)\n",
    "print(f\"The solutions for the quadratic equation are: {solution}\")\n"
   ]
  },
  {
   "cell_type": "code",
   "execution_count": 41,
   "metadata": {},
   "outputs": [
    {
     "name": "stdout",
     "output_type": "stream",
     "text": [
      "2\n",
      "4\n",
      "6\n",
      "8\n",
      "10\n"
     ]
    }
   ],
   "source": [
    "#Declare a function named print_list. It takes a list as a parameter and it prints out each element of the list.\n",
    "def print_list(my_list):\n",
    "    for item in my_list:\n",
    "        print(item)\n",
    "\n",
    "# Example usage:\n",
    "my_list = [2, 4, 6, 8, 10]   \n",
    "print_list(my_list)\n"
   ]
  },
  {
   "cell_type": "code",
   "execution_count": 43,
   "metadata": {},
   "outputs": [
    {
     "name": "stdout",
     "output_type": "stream",
     "text": [
      "[5, 4, 3, 2, 1]\n",
      "['E', 'D', 'C', 'B', 'A']\n"
     ]
    }
   ],
   "source": [
    "#Declare a function named reverse_list. It takes an array as a parameter and it returns the reverse of the array (use loops).\n",
    "def reverse_list(arr):\n",
    "    reversed_arr = []\n",
    "    for i in range(len(arr) - 1, -1, -1):\n",
    "        reversed_arr.append(arr[i])\n",
    "    return reversed_arr\n",
    "\n",
    "# Test cases\n",
    "print(reverse_list([1, 2, 3, 4, 5]))  # Output: [5, 4, 3, 2, 1]\n",
    "print(reverse_list([\"A\", \"B\", \"C\", \"D\", \"E\"]))  # Output: ['C', 'B', 'A']\n"
   ]
  },
  {
   "cell_type": "code",
   "execution_count": null,
   "metadata": {},
   "outputs": [],
   "source": [
    "#Declare a function named capitalize_list_items. It takes a list as a parameter and it returns a capitalized list of items\n",
    "def capitalize_list_items(mylist):\n",
    "    capitalized_list = [item.capitalize() for item in mylist]\n",
    "    return capitalized_list\n",
    "\n",
    "# Testing the code\n",
    "original_list = [\"apple\", \"banana\", \"orange\"]\n",
    "result = capitalize_list_items(original_list)\n",
    "print(result)  # Output: ['Apple', 'Banana', 'Orange']\n"
   ]
  }
 ],
 "metadata": {
  "kernelspec": {
   "display_name": "mytest",
   "language": "python",
   "name": "python3"
  },
  "language_info": {
   "codemirror_mode": {
    "name": "ipython",
    "version": 3
   },
   "file_extension": ".py",
   "mimetype": "text/x-python",
   "name": "python",
   "nbconvert_exporter": "python",
   "pygments_lexer": "ipython3",
   "version": "3.8.18"
  }
 },
 "nbformat": 4,
 "nbformat_minor": 2
}
