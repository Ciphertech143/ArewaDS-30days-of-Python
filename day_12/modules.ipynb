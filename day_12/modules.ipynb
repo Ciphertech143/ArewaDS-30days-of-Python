{
 "cells": [
  {
   "cell_type": "code",
   "execution_count": null,
   "metadata": {},
   "outputs": [],
   "source": [
    "#Level 1\n",
    "import random\n",
    "import string\n",
    "\n",
    "def random_user_id():\n",
    "    return ''.join(random.choices(string.ascii_lowercase + string.digits, k=8))\n",
    "\n",
    "print(random_user_id())  # Example Output: '1ee33dff' \n"
   ]
  },
  {
   "cell_type": "code",
   "execution_count": 7,
   "metadata": {},
   "outputs": [
    {
     "name": "stdout",
     "output_type": "stream",
     "text": [
      "['dpm7', '9wex', '4nmx', 'du68', 'tbe5']\n"
     ]
    }
   ],
   "source": [
    "import random\n",
    "import string\n",
    "def user_id_gen_by_user():\n",
    "    length = int(input(\"Enter the number of characters for the user ID: \"))\n",
    "    num_ids = int(input(\"Enter the number of IDs to generate: \"))\n",
    "    user_ids = []\n",
    "    for _ in range(num_ids):\n",
    "        user_ids.append(''.join(random.choices(string.ascii_lowercase + string.digits, k=length)))\n",
    "    return user_ids\n",
    "\n",
    "print(user_id_gen_by_user())  # Example Output: ['kcsy2', 'SMFYb', 'bWmeq', 'ZXOYh', '2Rgxf']\n"
   ]
  },
  {
   "cell_type": "code",
   "execution_count": 9,
   "metadata": {},
   "outputs": [
    {
     "name": "stdout",
     "output_type": "stream",
     "text": [
      "rgb(207,128,80)\n"
     ]
    }
   ],
   "source": [
    "#Write a function named rgb_color_gen that generates RGB colors.\n",
    "def rgb_color_gen():\n",
    "    r, g, b = random.randint(0, 255), random.randint(0, 255), random.randint(0, 255)\n",
    "    return f\"rgb({r},{g},{b})\"\n",
    "\n",
    "print(rgb_color_gen())  # Example Output: rgb(125,244,255)\n"
   ]
  },
  {
   "cell_type": "code",
   "execution_count": 11,
   "metadata": {},
   "outputs": [
    {
     "name": "stdout",
     "output_type": "stream",
     "text": [
      "['#76d97e', '#e9ace1', '#dcef38']\n"
     ]
    }
   ],
   "source": [
    "#Write a function list_of_hexa_colors which returns any number of hexadecimal colors in an array\n",
    "def list_of_hexa_colors(num_colors):\n",
    "    return ['#' + ''.join(random.choices(string.hexdigits.lower(), k=6)) for _ in range(num_colors)]\n",
    "\n",
    "print(list_of_hexa_colors(3))  # Example Output: ['#a3e12f', '#03ed55', '#eb3d2b']\n"
   ]
  },
  {
   "cell_type": "code",
   "execution_count": 12,
   "metadata": {},
   "outputs": [
    {
     "name": "stdout",
     "output_type": "stream",
     "text": [
      "['rgb(121,62,32)', 'rgb(251,137,146)', 'rgb(144,245,38)']\n"
     ]
    }
   ],
   "source": [
    "#Write a function list_of_rgb_colors which returns any number of RGB colors in an array.\n",
    "def list_of_rgb_colors(num_colors):\n",
    "    return [rgb_color_gen() for _ in range(num_colors)]\n",
    "\n",
    "print(list_of_rgb_colors(3))  # Example Output: ['rgb(5,55,175)', 'rgb(50,105,100)', 'rgb(15,26,80)']\n"
   ]
  },
  {
   "cell_type": "code",
   "execution_count": 13,
   "metadata": {},
   "outputs": [
    {
     "name": "stdout",
     "output_type": "stream",
     "text": [
      "['#bf9b44', '#eabb98', '#acdf6d']\n",
      "['rgb(39,184,223)', 'rgb(152,122,132)', 'rgb(50,211,252)']\n"
     ]
    }
   ],
   "source": [
    "#Write a function generate_colors which generates any number of hexa or RGB colors.\n",
    "def generate_colors(color_type, num_colors):\n",
    "    if color_type == 'hexa':\n",
    "        return list_of_hexa_colors(num_colors)\n",
    "    elif color_type == 'rgb':\n",
    "        return list_of_rgb_colors(num_colors)\n",
    "    else:\n",
    "        return []\n",
    "\n",
    "print(generate_colors('hexa', 3))  # ['#a3e12f', '#03ed55', '#eb3d2b']\n",
    "print(generate_colors('rgb', 3))   # ['rgb(5,55,175)', 'rgb(50,105,100)', 'rgb(15,26,80)']\n"
   ]
  },
  {
   "cell_type": "code",
   "execution_count": 14,
   "metadata": {},
   "outputs": [
    {
     "name": "stdout",
     "output_type": "stream",
     "text": [
      "[3, 4, 5, 2, 1]\n"
     ]
    }
   ],
   "source": [
    "#Call your function shuffle_list, it takes a list as a parameter and it returns a shuffled list.\n",
    "def shuffle_list(input_list):\n",
    "    shuffled_list = input_list[:]\n",
    "    random.shuffle(shuffled_list)\n",
    "    return shuffled_list\n",
    "\n",
    "# Example usage:\n",
    "original_list = [1, 2, 3, 4, 5]\n",
    "print(shuffle_list(original_list))  # Example Output: Shuffled list\n"
   ]
  },
  {
   "cell_type": "code",
   "execution_count": 15,
   "metadata": {},
   "outputs": [
    {
     "name": "stdout",
     "output_type": "stream",
     "text": [
      "[3, 8, 6, 9, 4, 1, 2]\n"
     ]
    }
   ],
   "source": [
    "#Write a function which returns an array of seven random numbers in a range of 0-9. All the numbers must be unique.\n",
    "def unique_random_numbers():\n",
    "    return random.sample(range(10), 7)\n",
    "\n",
    "print(unique_random_numbers())  # Example Output: [3, 5, 0, 8, 1, 6, 4]\n"
   ]
  },
  {
   "cell_type": "code",
   "execution_count": 16,
   "metadata": {},
   "outputs": [
    {
     "name": "stdout",
     "output_type": "stream",
     "text": [
      "[5, 1, 3, 2, 4]\n"
     ]
    }
   ],
   "source": [
    "def shuffle_list(input_list):\n",
    "    shuffled_list = input_list[:]\n",
    "    random.shuffle(shuffled_list)\n",
    "    return shuffled_list\n",
    "\n",
    "# Example usage:\n",
    "original_list = [1, 2, 3, 4, 5]\n",
    "print(shuffle_list(original_list))  # Example Output: Shuffled list\n"
   ]
  },
  {
   "cell_type": "code",
   "execution_count": 18,
   "metadata": {},
   "outputs": [
    {
     "name": "stdout",
     "output_type": "stream",
     "text": [
      "[0, 6, 7, 3, 2, 8, 9]\n"
     ]
    }
   ],
   "source": [
    "def unique_random_numbers():\n",
    "    return random.sample(range(10), 7)\n",
    "\n",
    "print(unique_random_numbers())  \n"
   ]
  },
  {
   "cell_type": "code",
   "execution_count": null,
   "metadata": {},
   "outputs": [],
   "source": []
  }
 ],
 "metadata": {
  "kernelspec": {
   "display_name": "mytest",
   "language": "python",
   "name": "python3"
  },
  "language_info": {
   "codemirror_mode": {
    "name": "ipython",
    "version": 3
   },
   "file_extension": ".py",
   "mimetype": "text/x-python",
   "name": "python",
   "nbconvert_exporter": "python",
   "pygments_lexer": "ipython3",
   "version": "3.8.18"
  }
 },
 "nbformat": 4,
 "nbformat_minor": 2
}
