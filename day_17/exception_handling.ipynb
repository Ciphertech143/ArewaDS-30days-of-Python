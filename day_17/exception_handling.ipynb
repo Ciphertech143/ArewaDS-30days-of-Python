{
 "cells": [
  {
   "cell_type": "code",
   "execution_count": 1,
   "metadata": {},
   "outputs": [
    {
     "name": "stdout",
     "output_type": "stream",
     "text": [
      "Countries unpacked successfully!\n"
     ]
    }
   ],
   "source": [
    "names = ['Finland', 'Sweden', 'Norway', 'Denmark', 'Iceland', 'Estonia', 'Russia']\n",
    "\n",
    "try:\n",
    "    # Unpack the first five countries into nordic_countries\n",
    "    nordic_countries = names[:5]\n",
    "\n",
    "    # Store Estonia and Russia in es and ru respectively\n",
    "    es, ru = names[-2:]\n",
    "except ValueError as e:\n",
    "    print(f\"Error: {e}\")\n",
    "except IndexError as e:\n",
    "    print(\"Error: Not enough elements in the list to unpack.\")\n",
    "else:\n",
    "    print(\"Countries unpacked successfully!\")\n"
   ]
  },
  {
   "cell_type": "markdown",
   "metadata": {},
   "source": [
    "The above are the unpacked countries"
   ]
  },
  {
   "cell_type": "code",
   "execution_count": null,
   "metadata": {},
   "outputs": [],
   "source": []
  }
 ],
 "metadata": {
  "kernelspec": {
   "display_name": "mytest",
   "language": "python",
   "name": "python3"
  },
  "language_info": {
   "codemirror_mode": {
    "name": "ipython",
    "version": 3
   },
   "file_extension": ".py",
   "mimetype": "text/x-python",
   "name": "python",
   "nbconvert_exporter": "python",
   "pygments_lexer": "ipython3",
   "version": "3.8.18"
  }
 },
 "nbformat": 4,
 "nbformat_minor": 2
}
